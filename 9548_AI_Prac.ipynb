{
 "cells": [
  {
   "cell_type": "code",
   "execution_count": 2,
   "metadata": {},
   "outputs": [],
   "source": [
    "import heapq\n",
    "\n",
    "initial_state = (3, 3, 1)\n",
    "goal_state = (0, 0, 0)\n",
    "\n",
    "def is_valid(state):\n",
    "   \n",
    "    missionaries_left, cannibals_left, boat = state\n",
    "    missionaries_right = 3 - missionaries_left\n",
    "    cannibals_right = 3 - cannibals_left\n",
    "\n",
    "    if (missionaries_left < cannibals_left and missionaries_left > 0) or (missionaries_right < cannibals_right and missionaries_right > 0):\n",
    "        return False\n",
    "    \n",
    "    return True"
   ]
  },
  {
   "cell_type": "code",
   "execution_count": 3,
   "metadata": {},
   "outputs": [],
   "source": [
    "def get_successor(state):\n",
    "    possible_states = [(1, 0), (2, 0), (0, 1), (0, 2), (1, 1)]\n",
    "    moves = []\n",
    "    missionaries_left, cannibals_left, boat = state\n",
    "\n",
    "    if boat == 1:\n",
    "        for move in possible_states:\n",
    "            missionaries_new = missionaries_left - move[0]\n",
    "            cannibals_new = cannibals_left - move[1]\n",
    "            if 0 <= missionaries_new <= 3 and 0 <= cannibals_new <= 3 and is_valid((missionaries_new, cannibals_new, 0)):\n",
    "                moves.append((missionaries_new, cannibals_new, 0))\n",
    "    else:\n",
    "        for move in possible_states:\n",
    "            missionaries_new = missionaries_left + move[0]\n",
    "            cannibals_new = cannibals_left + move[1]\n",
    "            if 0 <= missionaries_new <= 3 and 0 <= cannibals_new <= 3 and is_valid((missionaries_new, cannibals_new, 1)):\n",
    "                moves.append((missionaries_new, cannibals_new, 1))\n",
    "    \n",
    "    return moves"
   ]
  },
  {
   "cell_type": "code",
   "execution_count": 10,
   "metadata": {},
   "outputs": [],
   "source": [
    "def ufc():\n",
    "    visited = set()\n",
    "    queue = [(0,(initial_state,[]))]\n",
    "\n",
    "    while queue:\n",
    "        cost,(current_state,path) = heapq.heappop(queue)\n",
    "        visited.add(current_state)\n",
    "\n",
    "        if current_state == goal_state:\n",
    "                  return path\n",
    "      \n",
    "        for next_state in get_successor(current_state):\n",
    "            if next_state not in visited:\n",
    "                next_cost = cost +1\n",
    "                heapq.heappush(queue, (next_cost, (next_state, path + [next_state])))\n",
    "                visited.add(next_state)\n",
    "   \n",
    "    return None"
   ]
  },
  {
   "cell_type": "code",
   "execution_count": 11,
   "metadata": {},
   "outputs": [
    {
     "name": "stdout",
     "output_type": "stream",
     "text": [
      "Solution found:\n",
      "Step 1: (2, 2, 0)\n",
      "Step 2: (3, 2, 1)\n",
      "Step 3: (3, 0, 0)\n",
      "Step 4: (3, 1, 1)\n",
      "Step 5: (1, 1, 0)\n",
      "Step 6: (2, 2, 1)\n",
      "Step 7: (0, 2, 0)\n",
      "Step 8: (0, 3, 1)\n",
      "Step 9: (0, 1, 0)\n",
      "Step 10: (0, 2, 1)\n",
      "Step 11: (0, 0, 0)\n"
     ]
    }
   ],
   "source": [
    "solution = ufc()\n",
    "if solution:\n",
    "    print(\"Solution found:\")\n",
    "    for i, state in enumerate(solution):\n",
    "        print(f\"Step {i + 1}: {state}\")\n",
    "else:\n",
    "    print(\"No solution found.\")"
   ]
  },
  {
   "cell_type": "code",
   "execution_count": null,
   "metadata": {},
   "outputs": [],
   "source": []
  }
 ],
 "metadata": {
  "kernelspec": {
   "display_name": "Python 3",
   "language": "python",
   "name": "python3"
  },
  "language_info": {
   "codemirror_mode": {
    "name": "ipython",
    "version": 3
   },
   "file_extension": ".py",
   "mimetype": "text/x-python",
   "name": "python",
   "nbconvert_exporter": "python",
   "pygments_lexer": "ipython3",
   "version": "3.8.10"
  }
 },
 "nbformat": 4,
 "nbformat_minor": 4
}
